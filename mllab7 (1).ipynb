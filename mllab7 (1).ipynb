{
 "cells": [
  {
   "cell_type": "code",
   "execution_count": null,
   "id": "a5c05c8a",
   "metadata": {},
   "outputs": [],
   "source": [
    "import numpy as np\n",
    "from sklearn import svm\n",
    "from sklearn.model_selection import train_test_split\n",
    "\n",
    "# Load the dataset\n",
    "data = np.genfromtxt(r'D:\\\\MAlayalam_char_glcm_features.csv', delimiter=',')\n",
    "X = data[:, :-2]  # Features\n",
    "y = data[:, -1]   # Labels\n",
    "\n",
    "# Split the dataset into training and testing sets\n",
    "X_train, X_test, y_train, y_test = train_test_split(X, y, test_size=0.2, random_state=42)\n",
    "\n",
    "# Create an instance of the SVM classifier\n",
    "clf = svm.SVC(kernel='linear')\n",
    "\n",
    "# Train the SVM classifier using the training set\n",
    "clf.fit(X_train, y_train)\n",
    "\n",
    "# Get the support vectors and study them to understand them\n",
    "support_vectors = clf.support_vectors_\n",
    "\n",
    "# Test the accuracy of the SVM using the test set\n",
    "accuracy = clf.score(X_test, y_test)\n",
    "print(\"Accuracy:\", accuracy)\n",
    "\n",
    "# Use the predict() method of the SVM classifier to study the output values of the classifier\n",
    "y_pred = clf.predict(X_test)"
   ]
  },
  {
   "cell_type": "code",
   "execution_count": 1,
   "id": "43070fc3",
   "metadata": {},
   "outputs": [
    {
     "name": "stdout",
     "output_type": "stream",
     "text": [
      "Support Vectors:\n",
      " [[1.72164352e+01 2.11197247e+01 2.08898868e+01 ... 8.89129467e-01\n",
      "  8.87026542e-01 3.33300000e+03]\n",
      " [1.51038773e+01 1.56021169e+01 1.24327323e+01 ... 8.94793740e-01\n",
      "  8.88129338e-01 3.33400000e+03]\n",
      " [8.93772894e+00 1.50331614e+01 1.19909405e+01 ... 9.42768738e-01\n",
      "  9.38265659e-01 3.33500000e+03]\n",
      " ...\n",
      " [1.10713166e+01 1.14864865e+01 6.51233843e+00 ... 9.60633630e-01\n",
      "  9.53065139e-01 3.45200000e+03]\n",
      " [1.40434783e+01 1.54046763e+01 1.19145299e+01 ... 9.24912591e-01\n",
      "  9.17598587e-01 3.45300000e+03]\n",
      " [1.18367929e+01 1.23657982e+01 9.41216678e+00 ... 9.48082228e-01\n",
      "  9.41139963e-01 3.45400000e+03]]\n"
     ]
    }
   ],
   "source": [
    "import numpy as np\n",
    "import pandas as pd\n",
    "from sklearn import svm\n",
    "from sklearn.model_selection import train_test_split\n",
    "# Step 1: Load your data from the Excel file\n",
    "data = pd.read_csv(\"D:\\\\MAlayalam_char_glcm_features.csv\")\n",
    "# Split the data into features and labels\n",
    "X_train = data.iloc[:, :-1].values\n",
    "y_train = data.iloc[:, -1].values\n",
    "# Create an SVM classifier\n",
    "clf = svm.SVC()\n",
    "\n",
    "# Train the SVM classifier\n",
    "clf.fit(X_train, y_train)\n",
    "\n",
    "# Get the support vectors\n",
    "support_vectors = clf.support_vectors_\n",
    "\n",
    "# Print or study the support vectors\n",
    "print(\"Support Vectors:\\n\", support_vectors)"
   ]
  },
  {
   "cell_type": "code",
   "execution_count": 3,
   "id": "7e9e2c01",
   "metadata": {},
   "outputs": [
    {
     "name": "stdout",
     "output_type": "stream",
     "text": [
      "Accuracy with linear kernel: 0.67\n",
      "Accuracy with poly kernel: 0.63\n",
      "Accuracy with rbf kernel: 0.68\n",
      "Accuracy with sigmoid kernel: 0.32\n"
     ]
    }
   ],
   "source": [
    "import pandas as pd\n",
    "from sklearn import svm\n",
    "from sklearn.model_selection import train_test_split\n",
    "from sklearn.datasets import make_classification\n",
    "from sklearn.metrics import accuracy_score\n",
    "\n",
    "data = pd.read_csv(\"D:\\\\extracted_features_charrec_dense.csv\")\n",
    "\n",
    "# Split the data into features and labels\n",
    "X_train = data.iloc[:, :-1].values\n",
    "y_train = data.iloc[:, -1].values\n",
    "\n",
    "# Split the dataset into training and testing sets\n",
    "X_train, X_test, y_train, y_test = train_test_split(X_train, y_train, test_size=0.2, random_state=42)\n",
    "\n",
    "\n",
    "# List of kernel functions to experiment with\n",
    "kernel_functions = ['linear', 'poly', 'rbf', 'sigmoid']\n",
    "\n",
    "# Iterate over different kernel functions\n",
    "for kernel in kernel_functions:\n",
    "    # Create an SVM classifier with the specified kernel\n",
    "    clf = svm.SVC(kernel=kernel)\n",
    "\n",
    "    # Train the SVM classifier\n",
    "    clf.fit(X_train, y_train)\n",
    "\n",
    "    # Make predictions on the test set\n",
    "    y_pred = clf.predict(X_test)\n",
    "\n",
    "    # Calculate and print the accuracy\n",
    "    accuracy = accuracy_score(y_test, y_pred)\n",
    "    print(f\"Accuracy with {kernel} kernel: {accuracy:.2f}\")"
   ]
  },
  {
   "cell_type": "code",
   "execution_count": null,
   "id": "1f7094e0",
   "metadata": {},
   "outputs": [],
   "source": []
  }
 ],
 "metadata": {
  "kernelspec": {
   "display_name": "Python 3 (ipykernel)",
   "language": "python",
   "name": "python3"
  },
  "language_info": {
   "codemirror_mode": {
    "name": "ipython",
    "version": 3
   },
   "file_extension": ".py",
   "mimetype": "text/x-python",
   "name": "python",
   "nbconvert_exporter": "python",
   "pygments_lexer": "ipython3",
   "version": "3.11.4"
  }
 },
 "nbformat": 4,
 "nbformat_minor": 5
}
